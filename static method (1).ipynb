{
 "cells": [
  {
   "cell_type": "code",
   "execution_count": 1,
   "id": "39c639ce-425c-4d65-932f-5948b3cf355e",
   "metadata": {},
   "outputs": [],
   "source": [
    "class pwskills :\n",
    "    \n",
    "    def student_details(self,name,mail_id,number) :\n",
    "        print(name , mail_id, number)"
   ]
  },
  {
   "cell_type": "code",
   "execution_count": 2,
   "id": "617c9578-4fbe-49ce-be49-995748c04188",
   "metadata": {},
   "outputs": [],
   "source": [
    "pw = pwskills()"
   ]
  },
  {
   "cell_type": "code",
   "execution_count": 12,
   "id": "3fae15d7-e1a4-4527-bf70-ab12fb04b89b",
   "metadata": {},
   "outputs": [
    {
     "name": "stdout",
     "output_type": "stream",
     "text": [
      "sudh sudh@gmail.com 912342342\n"
     ]
    }
   ],
   "source": [
    "pw.student_details(\"sudh\", \"sudh@gmail.com\", 912342342)"
   ]
  },
  {
   "cell_type": "code",
   "execution_count": 32,
   "id": "2be2486d-425f-4ce4-a48a-9ef3eeacc7be",
   "metadata": {},
   "outputs": [],
   "source": [
    "class pwskills1 :\n",
    "    \n",
    "    def student_details(self,name,mail_id,number) :\n",
    "        print(name , mail_id, number)\n",
    "        \n",
    "    @staticmethod\n",
    "    def mentor_class(list_mentor) :\n",
    "        print(list_mentor)\n",
    "        \n",
    "    def mentor(self ,mentor_list):\n",
    "        print(mentor_list)"
   ]
  },
  {
   "cell_type": "code",
   "execution_count": 33,
   "id": "8a34a6c3-1564-4966-9b94-3045b940a71c",
   "metadata": {},
   "outputs": [
    {
     "name": "stdout",
     "output_type": "stream",
     "text": [
      "['sudh', 'krish']\n"
     ]
    }
   ],
   "source": [
    "pwskills1.mentor_class([\"sudh\" , \"krish\"])"
   ]
  },
  {
   "cell_type": "code",
   "execution_count": 34,
   "id": "866662dd-88be-4474-9042-3db134d9efbf",
   "metadata": {},
   "outputs": [],
   "source": [
    "stu1 = pwskills()"
   ]
  },
  {
   "cell_type": "code",
   "execution_count": 35,
   "id": "58ba1efd-6d80-4543-aae4-245958448576",
   "metadata": {},
   "outputs": [],
   "source": [
    "stu2 = pwskills()"
   ]
  },
  {
   "cell_type": "code",
   "execution_count": 36,
   "id": "f01f647d-04ca-4d06-81c8-bc0383b7d40a",
   "metadata": {},
   "outputs": [],
   "source": [
    "stu3 = pwskills()"
   ]
  },
  {
   "cell_type": "code",
   "execution_count": 37,
   "id": "ab190448-841d-48a5-af71-d2ff82db4d43",
   "metadata": {},
   "outputs": [
    {
     "ename": "AttributeError",
     "evalue": "'pwskills' object has no attribute 'mentor'",
     "output_type": "error",
     "traceback": [
      "\u001b[0;31m---------------------------------------------------------------------------\u001b[0m",
      "\u001b[0;31mAttributeError\u001b[0m                            Traceback (most recent call last)",
      "Cell \u001b[0;32mIn[37], line 1\u001b[0m\n\u001b[0;32m----> 1\u001b[0m \u001b[43mstu1\u001b[49m\u001b[38;5;241;43m.\u001b[39;49m\u001b[43mmentor\u001b[49m([\u001b[38;5;124m\"\u001b[39m\u001b[38;5;124msudh\u001b[39m\u001b[38;5;124m\"\u001b[39m , \u001b[38;5;124m\"\u001b[39m\u001b[38;5;124mkrish\u001b[39m\u001b[38;5;124m\"\u001b[39m])\n",
      "\u001b[0;31mAttributeError\u001b[0m: 'pwskills' object has no attribute 'mentor'"
     ]
    }
   ],
   "source": [
    "stu1.mentor([\"sudh\" , \"krish\"])"
   ]
  },
  {
   "cell_type": "code",
   "execution_count": 43,
   "id": "2d7c43b3-9751-478a-918b-44eb1a54bed6",
   "metadata": {},
   "outputs": [],
   "source": [
    "class pwskills2 :\n",
    "    \n",
    "    def student_details(self,name,mail_id,number) :\n",
    "        print(name , mail_id, number)\n",
    "        \n",
    "    @staticmethod\n",
    "    def mentor_mail_id(mail_id_mentor) :\n",
    "        print(mail_id_mentor)\n",
    "        \n",
    "    @staticmethod\n",
    "    def mentor_class(list_mentor) :\n",
    "        pwskills2.mentor_mail_id([\"sudh@gmail.com\" , \"krish@gmail.com\"])\n",
    "        print(list_mentor)\n",
    "        \n",
    "    @classmethod\n",
    "    def class_name(cls):\n",
    "        cls.mentor_class([\"sudh\" , \"krish\"])\n",
    "        \n",
    "    def mentor(self ,mentor_list):\n",
    "        print(mentor_list)\n",
    "        self.mentor_class([\"krish\" , \"sudh\"])"
   ]
  },
  {
   "cell_type": "code",
   "execution_count": 44,
   "id": "1762345e-573f-4fbb-8873-3fd311f8bca0",
   "metadata": {},
   "outputs": [
    {
     "name": "stdout",
     "output_type": "stream",
     "text": [
      "['sudh@gmail.com', 'krish@gmail.com']\n",
      "['krish', 'sudh']\n"
     ]
    }
   ],
   "source": [
    "pwskills2.mentor_class([\"krish\" , \"sudh\"])"
   ]
  },
  {
   "cell_type": "code",
   "execution_count": 45,
   "id": "c829704e-a8e9-4187-8ba5-c232f3ac22fe",
   "metadata": {},
   "outputs": [
    {
     "name": "stdout",
     "output_type": "stream",
     "text": [
      "['sudh@gmail.com', 'krish@gmail.com']\n",
      "['sudh', 'krish']\n"
     ]
    }
   ],
   "source": [
    "pwskills2.class_name()"
   ]
  },
  {
   "cell_type": "code",
   "execution_count": null,
   "id": "0c0c3a3f-4cda-485a-88f5-cd1916ec9e0a",
   "metadata": {},
   "outputs": [],
   "source": []
  }
 ],
 "metadata": {
  "kernelspec": {
   "display_name": "Python 3 (ipykernel)",
   "language": "python",
   "name": "python3"
  },
  "language_info": {
   "codemirror_mode": {
    "name": "ipython",
    "version": 3
   },
   "file_extension": ".py",
   "mimetype": "text/x-python",
   "name": "python",
   "nbconvert_exporter": "python",
   "pygments_lexer": "ipython3",
   "version": "3.10.8"
  }
 },
 "nbformat": 4,
 "nbformat_minor": 5
}
